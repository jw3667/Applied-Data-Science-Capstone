{
 "cells": [
  {
   "cell_type": "markdown",
   "metadata": {},
   "source": [
    "## Introduction: Exploring Toronto Neighborhoods - A Place for New Chinese Immigrants"
   ]
  },
  {
   "cell_type": "markdown",
   "metadata": {},
   "source": [
    "Moving to a new country and settling down in a new city has never been an easy choice. Canada, as one of the most immigration-friendly countries, has always welcomed people from all over the world to find new homes in Canada. According to *2016 Census: Housing, Immigration and Ethnocultural Diversity, Aboriginal Peoples*, in 2016, 47% of the residents of Toronto were immigrants. The main challenge faced by new immigrants is to adapt to the new cultural environment, including languages, food cultures and lifestyle. Therefore, by choosing a community where people have the same or similar cultural backgrounds, new immigrants can adapt to the new environment in a more comfortable way. This project further narrows down the target audience to be Chinese parents, who have less flexibility in moving as a family and in greater needs to help their children to adapt to the new place.  \n",
    "\n",
    "The purpose of this project is to help newly landed Chinese parents to better understand the neighborhoods and regions of Toronto. The selection criteria include ethics, schooling and Chinese restaurants. "
   ]
  },
  {
   "cell_type": "markdown",
   "metadata": {},
   "source": [
    "## Data Scours and Data Preparation"
   ]
  },
  {
   "cell_type": "markdown",
   "metadata": {},
   "source": [
    "### Data Source"
   ]
  },
  {
   "cell_type": "markdown",
   "metadata": {},
   "source": [
    "Three main sources are used for this project: <br/>\n",
    "* Foursquare API: used to retrieve location data, including nearby venues. \n",
    "* Wikipedia: \n",
    "    * “List of Postal Code of Canada: M”: obtained neighborhood and region information of Toronto, including postal code, borough, and neighborhood. (https://en.wikipedia.org/wiki/List_of_postal_codes_of_Canada:_M)\n",
    "    * “Demographics of Toronto”: obtained ethics density data over regions of Toronto. (https://en.m.wikipedia.org/wiki/Demographics_of_Toronto#Ethnic_diversity)\n",
    "* Open Data by City of Toronto: used to obtain school information of Toronto area. (https://open.toronto.ca/dataset/school-locations-all-types/)"
   ]
  },
  {
   "cell_type": "markdown",
   "metadata": {},
   "source": [
    "### Major Data Cleaning & Sample Data Outputs"
   ]
  },
  {
   "cell_type": "markdown",
   "metadata": {},
   "source": [
    "**Toronto Location Information Table** from Wiki: <br/>\n",
    "Only process the cells that have an assigned borough. Ignore cells with a borough that is Not assigned. Separated multiple neighborhoods with comma in each cell."
   ]
  },
  {
   "cell_type": "markdown",
   "metadata": {},
   "source": [
    "![](https://raw.githubusercontent.com/jw3667/Applied-Data-Science-Capstone/master/images/location_tor.png)"
   ]
  },
  {
   "cell_type": "markdown",
   "metadata": {},
   "source": [
    "### Exploratory Results"
   ]
  },
  {
   "cell_type": "markdown",
   "metadata": {},
   "source": [
    "#### Toronto Ethics Group"
   ]
  },
  {
   "cell_type": "markdown",
   "metadata": {},
   "source": [
    "By reviewing the ethics density in different regions of Toronto. Top 3 Ethics groups are selected with recording the number of population. North York and Scarborough are two regions containing rigings where Chinese population is the top 1 ethic group. By comparing the total population in North York and Scarborough regions, North York has slightly higher total population than Scarborough region, but the level is very comparable. Therefore, Chinese immigrants are more likely to find people from Chinese background in these two areas comparing to other regions in Toronto. <br/>\n",
    "\n",
    "There are many benefits to start a new life at where new immigrants can find people originally from the same country. First of all, new immigrants can communicate easier with people having no language barriers. Landing into a new environment, new Chinese immigrants may find it easier to ask around from their neighbors. To facilitating the communication and avoid misunderstanding, it can be helpful if they can speak in Chinese with their neighbor when it is necessary. Building new relationships and expanding networks are always at the top challenge for new immigrants, and therefore, choosing to live at where they can easily find other families sharing similar background can help new immigrants to settle down quicker and more smoothly. "
   ]
  },
  {
   "cell_type": "markdown",
   "metadata": {},
   "source": [
    "![](https://raw.githubusercontent.com/jw3667/Applied-Data-Science-Capstone/master/images/north_york_ethics.png)"
   ]
  },
  {
   "cell_type": "markdown",
   "metadata": {},
   "source": [
    "![](https://raw.githubusercontent.com/jw3667/Applied-Data-Science-Capstone/master/images/sca_ethics.png)"
   ]
  },
  {
   "cell_type": "markdown",
   "metadata": {},
   "source": [
    "![](https://raw.githubusercontent.com/jw3667/Applied-Data-Science-Capstone/master/images/ethics_comp.png)"
   ]
  },
  {
   "cell_type": "markdown",
   "metadata": {},
   "source": [
    "### Toronto Schooling"
   ]
  },
  {
   "cell_type": "markdown",
   "metadata": {},
   "source": [
    "Comparing to single and young immigrants, parents have less flexibility in moving as a family. More importantly, children, especially young children, are more sensitive to the changing environment. Newly immigrant parents pay very much attention to how well their children can adapt to the new environment, and they need to ensure that their movement aligns with the educational goal as well.  \n",
    "\n",
    "The data source file is directly imported using API from Open Data from City of Toronto website. A geographical file covering the City of Toronto that contains all the point location of schools that we have. It also contains the private schools to the best of our knowledge. \n"
   ]
  },
  {
   "cell_type": "markdown",
   "metadata": {},
   "source": [
    "![](https://raw.githubusercontent.com/jw3667/Applied-Data-Science-Capstone/master/images/schools_by_regions.png)"
   ]
  },
  {
   "cell_type": "markdown",
   "metadata": {},
   "source": [
    "Statistics on total number of primary/secondary schools of Toronto suggests North York and Scarborough regions having more than twice number of schools comparing to the rest of regions in Toronto. This observation is a very good news to Chinese parents because according to the ethics group analysis, these two regions are the top choices on the list. "
   ]
  },
  {
   "cell_type": "markdown",
   "metadata": {},
   "source": [
    "![](https://raw.githubusercontent.com/jw3667/Applied-Data-Science-Capstone/master/images/school_type.png)"
   ]
  },
  {
   "cell_type": "markdown",
   "metadata": {},
   "source": [
    "Noted that English Public and Private schools are the major types in North York and Scarborough regions, which also fits the need of Chinese parents. Scarborough region has slightly higher number in public English school, while North York region has almost twice more private schools than Scarborough region. "
   ]
  },
  {
   "cell_type": "markdown",
   "metadata": {},
   "source": [
    "### Chinese Restaurant by Regions"
   ]
  },
  {
   "cell_type": "markdown",
   "metadata": {},
   "source": [
    "Chinese cuisine is a very important part of Chinese culture, and it is very differentiable from other cuisines. Moreover, eating habit is one of the most resistant habit that cannot be easily changed over time. Given that North York and Scarborough regions having greater percentage in Chinese ethic group, it is likely that new immigrants can find more Chinese restaurants there. "
   ]
  },
  {
   "cell_type": "markdown",
   "metadata": {},
   "source": [
    "![](https://raw.githubusercontent.com/jw3667/Applied-Data-Science-Capstone/master/images/res_by_regions.png)"
   ]
  },
  {
   "cell_type": "markdown",
   "metadata": {},
   "source": [
    "Scarborough region has almost twice more Chinese restaurants than North York region. As the final recommendation needs to be as specific as possible, number of nearby Chinese restaurants are also studied at neighborhood level. "
   ]
  },
  {
   "cell_type": "markdown",
   "metadata": {},
   "source": [
    "![](https://raw.githubusercontent.com/jw3667/Applied-Data-Science-Capstone/master/images/neighbohood_res.png)"
   ]
  },
  {
   "cell_type": "markdown",
   "metadata": {},
   "source": [
    "According to the statistics on Chinese restaurant on neighborhood level, it can be seen that all neighborhood has at least one Chinse restaurant nearby. The neighborhood (or neighborhood region) has the highest number of Chinese restaurants surrounding are those near Milliken. "
   ]
  },
  {
   "cell_type": "markdown",
   "metadata": {},
   "source": [
    "## Clustering Model: K-means"
   ]
  },
  {
   "cell_type": "markdown",
   "metadata": {},
   "source": [
    "The purpose of this project is to help new immigrant Chinese parents to understand the neighborhood and regions based on their particular needs and provide potential recommendation at neighborhood level. \n",
    "\n",
    "K-means is an unsupervised clustering algorithm designed to partition unlabeled data into a certain number (the “K”) of distinct groupings. In other words, k-means finds observations that share important characteristics and classifies them together into clusters (Alan, Jeffares). By utilizing K-mean cluster analysis, neighborhood with the greatest similarity according to schooling and Chinese restaurants can be grouped together. Therefore, audience can easily find similar neighborhoods fits their need. \n",
    "\n",
    "To determine the number of groups (the value of K), the elbow method is used, and group number is 5. Package *KElowVisualizer* from *yellowbrick* is used to determine the best value of K."
   ]
  },
  {
   "cell_type": "markdown",
   "metadata": {},
   "source": [
    "![](https://raw.githubusercontent.com/jw3667/Applied-Data-Science-Capstone/master/images/k-means.png)"
   ]
  },
  {
   "cell_type": "markdown",
   "metadata": {},
   "source": [
    "![]("
   ]
  },
  {
   "cell_type": "markdown",
   "metadata": {},
   "source": [
    "## Results & Discussion"
   ]
  },
  {
   "cell_type": "markdown",
   "metadata": {},
   "source": [
    "## Conclusion & Further Improvement"
   ]
  }
 ],
 "metadata": {
  "kernelspec": {
   "display_name": "Python 3",
   "language": "python",
   "name": "python3"
  },
  "language_info": {
   "codemirror_mode": {
    "name": "ipython",
    "version": 3
   },
   "file_extension": ".py",
   "mimetype": "text/x-python",
   "name": "python",
   "nbconvert_exporter": "python",
   "pygments_lexer": "ipython3",
   "version": "3.7.4"
  }
 },
 "nbformat": 4,
 "nbformat_minor": 2
}

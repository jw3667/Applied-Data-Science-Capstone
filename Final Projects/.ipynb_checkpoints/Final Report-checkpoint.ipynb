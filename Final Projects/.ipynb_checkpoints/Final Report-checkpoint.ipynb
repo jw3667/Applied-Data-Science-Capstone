{
 "cells": [
  {
   "cell_type": "markdown",
   "metadata": {},
   "source": [
    "## Introduction: Exploring Toronto Neighborhoods - A Place for New Chinese Immigrants"
   ]
  },
  {
   "cell_type": "markdown",
   "metadata": {},
   "source": [
    "Moving to a new country and settling down in a new city has never been an easy choice. Canada, as one of the most immigration-friendly countries, has always welcomed people from all over the world to find new homes in Canada. According to *2016 Census: Housing, Immigration and Ethnocultural Diversity, Aboriginal Peoples*, in 2016, 47% of the residents of Toronto were immigrants. The main challenge faced by new immigrants is to adapt to the new cultural environment, including languages, food cultures and lifestyle. Therefore, by choosing a community where people have the same or similar cultural backgrounds, new immigrants can adapt to the new environment in a more comfortable way. This project further narrows down the target audience to be Chinese parents, who have less flexibility in moving as a family and in greater needs to help their children to adapt to the new place.  \n",
    "\n",
    "The purpose of this project is to help newly landed Chinese parents to better understand the neighborhoods and regions of Toronto. The selection criteria include ethics, schooling and Chinese restaurants. "
   ]
  },
  {
   "cell_type": "markdown",
   "metadata": {},
   "source": [
    "## Data Scours and Data Preparation"
   ]
  },
  {
   "cell_type": "markdown",
   "metadata": {},
   "source": [
    "### Data Source"
   ]
  },
  {
   "cell_type": "markdown",
   "metadata": {},
   "source": [
    "Three main sources are used for this project: <br/>\n",
    "* Foursquare API: used to retrieve location data, including nearby venues. \n",
    "* Wikipedia: \n",
    "    * “List of Postal Code of Canada: M”: obtained neighborhood and region information of Toronto, including postal code, borough, and neighborhood. (https://en.wikipedia.org/wiki/List_of_postal_codes_of_Canada:_M)\n",
    "    * “Demographics of Toronto”: obtained ethics density data over regions of Toronto. (https://en.m.wikipedia.org/wiki/Demographics_of_Toronto#Ethnic_diversity)\n",
    "* Open Data by City of Toronto: used to obtain school information of Toronto area. "
   ]
  },
  {
   "cell_type": "markdown",
   "metadata": {},
   "source": [
    "### Major Data Cleaning & Sample Data Outputs"
   ]
  },
  {
   "cell_type": "markdown",
   "metadata": {},
   "source": [
    "**Toronto Location Information Table** from Wiki: <br/>\n",
    "Only process the cells that have an assigned borough. Ignore cells with a borough that is Not assigned. Separated multiple neighborhoods with comma in each cell."
   ]
  },
  {
   "cell_type": "markdown",
   "metadata": {},
   "source": [
    "### Exploratory Results"
   ]
  },
  {
   "cell_type": "markdown",
   "metadata": {},
   "source": [
    "### Clustering Model: K-means"
   ]
  },
  {
   "cell_type": "markdown",
   "metadata": {},
   "source": [
    "### Results & Discussion"
   ]
  },
  {
   "cell_type": "markdown",
   "metadata": {},
   "source": [
    "### Conclusion & Further Improvement"
   ]
  }
 ],
 "metadata": {
  "kernelspec": {
   "display_name": "Python 3",
   "language": "python",
   "name": "python3"
  },
  "language_info": {
   "codemirror_mode": {
    "name": "ipython",
    "version": 3
   },
   "file_extension": ".py",
   "mimetype": "text/x-python",
   "name": "python",
   "nbconvert_exporter": "python",
   "pygments_lexer": "ipython3",
   "version": "3.7.4"
  }
 },
 "nbformat": 4,
 "nbformat_minor": 2
}

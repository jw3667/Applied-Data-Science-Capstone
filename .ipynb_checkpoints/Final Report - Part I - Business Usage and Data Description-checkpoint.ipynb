{
 "cells": [
  {
   "cell_type": "markdown",
   "metadata": {},
   "source": [
    "### Introduction: Exploring Toronto Neighborhoods - A Place for New Chinese Immigrants"
   ]
  },
  {
   "cell_type": "markdown",
   "metadata": {},
   "source": [
    "Moving to a new country and settling down in a new city has never been an easy choice. Canada, as one of the most immigration-friendly countries, has always welcomed people from all over the world to find new homes in Canada. According to 2016 Census: Housing, Immigration and Ethnocultural Diversity, Aboriginal Peoples, in 2016, 47% of the residents of Toronto were immigrants. The main challenge faced by new immigrants is to adapt to the new cultural environment, including languages, food cultures and lifestyle. Therefore, by choosing a community where people have the same or similar cultural backgrounds, new immigrants can adapt to the new environment in a more comfortable way. This project further narrows down the target audience to be Chinese parents, who have less flexibility in moving as a family and in greater needs to help their children to adapt to the new place.  \n",
    "\n",
    "The purpose of this project is to help newly landed Chinese parents to better understand the neighborhoods and regions of Toronto. The selection criteria include ethics, schooling and Chinese restaurants. "
   ]
  }
 ],
 "metadata": {
  "kernelspec": {
   "display_name": "Python 3",
   "language": "python",
   "name": "python3"
  },
  "language_info": {
   "codemirror_mode": {
    "name": "ipython",
    "version": 3
   },
   "file_extension": ".py",
   "mimetype": "text/x-python",
   "name": "python",
   "nbconvert_exporter": "python",
   "pygments_lexer": "ipython3",
   "version": "3.7.4"
  }
 },
 "nbformat": 4,
 "nbformat_minor": 2
}
